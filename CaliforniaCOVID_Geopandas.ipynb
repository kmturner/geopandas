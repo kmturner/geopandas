{
 "cells": [
  {
   "cell_type": "markdown",
   "metadata": {},
   "source": [
    "# Data Sources\n",
    "## Spatial Data: https://data.ca.gov/dataset/ca-geographic-boundaries\n",
    "## COVID Data: https://healthdata.gov/dataset/california-covid-19-hospital-data-and-case-statistics"
   ]
  },
  {
   "cell_type": "code",
   "execution_count": 84,
   "metadata": {},
   "outputs": [],
   "source": [
    "#pip install geopandas\n",
    "#pip install sqlalchemy\n",
    "#pip install descartes\n"
   ]
  },
  {
   "cell_type": "code",
   "execution_count": 8,
   "metadata": {},
   "outputs": [],
   "source": [
    "import geopandas\n",
    "import pandas as pd\n",
    "import matplotlib.pyplot as plt\n",
    "#import contextily"
   ]
  },
  {
   "cell_type": "code",
   "execution_count": 80,
   "metadata": {
    "scrolled": true
   },
   "outputs": [],
   "source": [
    "covid_df = pd.read_csv(\"Californiacovid19data.csv\")\n",
    "covid_df = covid_df[covid_df.NAME != 'Unassigned']\n",
    "gdf = geopandas.read_file(\"CA_Counties_TIGER2016.shp\")\n",
    "gdf_mastermerge = gdf.merge(covid_df, on=\"NAME\")"
   ]
  },
  {
   "cell_type": "code",
   "execution_count": 92,
   "metadata": {
    "scrolled": true
   },
   "outputs": [
    {
     "data": {
      "text/html": [
       "<div>\n",
       "<style scoped>\n",
       "    .dataframe tbody tr th:only-of-type {\n",
       "        vertical-align: middle;\n",
       "    }\n",
       "\n",
       "    .dataframe tbody tr th {\n",
       "        vertical-align: top;\n",
       "    }\n",
       "\n",
       "    .dataframe thead th {\n",
       "        text-align: right;\n",
       "    }\n",
       "</style>\n",
       "<table border=\"1\" class=\"dataframe\">\n",
       "  <thead>\n",
       "    <tr style=\"text-align: right;\">\n",
       "      <th></th>\n",
       "      <th>NAME</th>\n",
       "      <th>MostRecentDate</th>\n",
       "      <th>DateCode</th>\n",
       "      <th>TotalCountConfirmed</th>\n",
       "      <th>TotalCountDeaths</th>\n",
       "      <th>COVID19PosPatients</th>\n",
       "      <th>SuspectedCOVID19PosPatients</th>\n",
       "      <th>ICUCOVID19PosPatients</th>\n",
       "      <th>ICUCOVID19SusPatients</th>\n",
       "    </tr>\n",
       "  </thead>\n",
       "  <tbody>\n",
       "    <tr>\n",
       "      <td>0</td>\n",
       "      <td>Los Angeles</td>\n",
       "      <td>4/1/2020</td>\n",
       "      <td>43922</td>\n",
       "      <td>3502</td>\n",
       "      <td>66</td>\n",
       "      <td>739</td>\n",
       "      <td>1332</td>\n",
       "      <td>335</td>\n",
       "      <td>220</td>\n",
       "    </tr>\n",
       "    <tr>\n",
       "      <td>1</td>\n",
       "      <td>San Bernardino</td>\n",
       "      <td>4/1/2020</td>\n",
       "      <td>43922</td>\n",
       "      <td>245</td>\n",
       "      <td>5</td>\n",
       "      <td>95</td>\n",
       "      <td>196</td>\n",
       "      <td>39</td>\n",
       "      <td>52</td>\n",
       "    </tr>\n",
       "    <tr>\n",
       "      <td>2</td>\n",
       "      <td>Orange</td>\n",
       "      <td>4/1/2020</td>\n",
       "      <td>43922</td>\n",
       "      <td>579</td>\n",
       "      <td>11</td>\n",
       "      <td>117</td>\n",
       "      <td>221</td>\n",
       "      <td>50</td>\n",
       "      <td>48</td>\n",
       "    </tr>\n",
       "    <tr>\n",
       "      <td>3</td>\n",
       "      <td>Riverside</td>\n",
       "      <td>4/1/2020</td>\n",
       "      <td>43922</td>\n",
       "      <td>306</td>\n",
       "      <td>11</td>\n",
       "      <td>85</td>\n",
       "      <td>182</td>\n",
       "      <td>29</td>\n",
       "      <td>47</td>\n",
       "    </tr>\n",
       "    <tr>\n",
       "      <td>4</td>\n",
       "      <td>Sacramento</td>\n",
       "      <td>4/1/2020</td>\n",
       "      <td>43922</td>\n",
       "      <td>299</td>\n",
       "      <td>8</td>\n",
       "      <td>53</td>\n",
       "      <td>138</td>\n",
       "      <td>20</td>\n",
       "      <td>33</td>\n",
       "    </tr>\n",
       "  </tbody>\n",
       "</table>\n",
       "</div>"
      ],
      "text/plain": [
       "             NAME MostRecentDate  DateCode  TotalCountConfirmed  \\\n",
       "0     Los Angeles       4/1/2020     43922                 3502   \n",
       "1  San Bernardino       4/1/2020     43922                  245   \n",
       "2          Orange       4/1/2020     43922                  579   \n",
       "3       Riverside       4/1/2020     43922                  306   \n",
       "4      Sacramento       4/1/2020     43922                  299   \n",
       "\n",
       "   TotalCountDeaths  COVID19PosPatients  SuspectedCOVID19PosPatients  \\\n",
       "0                66                 739                         1332   \n",
       "1                 5                  95                          196   \n",
       "2                11                 117                          221   \n",
       "3                11                  85                          182   \n",
       "4                 8                  53                          138   \n",
       "\n",
       "   ICUCOVID19PosPatients  ICUCOVID19SusPatients  \n",
       "0                    335                    220  \n",
       "1                     39                     52  \n",
       "2                     50                     48  \n",
       "3                     29                     47  \n",
       "4                     20                     33  "
      ]
     },
     "execution_count": 92,
     "metadata": {},
     "output_type": "execute_result"
    }
   ],
   "source": [
    "covid_df.head()"
   ]
  },
  {
   "cell_type": "code",
   "execution_count": 89,
   "metadata": {},
   "outputs": [],
   "source": [
    "County_day1 = covid_df.query(\"DateCode == 43922\")"
   ]
  },
  {
   "cell_type": "code",
   "execution_count": 90,
   "metadata": {},
   "outputs": [],
   "source": [
    "gdf1 = gdf.merge(County_day1, on=\"NAME\")"
   ]
  },
  {
   "cell_type": "code",
   "execution_count": 91,
   "metadata": {},
   "outputs": [
    {
     "data": {
      "image/png": "[encoded data removed]",
      "text/plain": [
       "<Figure size 720x720 with 1 Axes>"
      ]
     },
     "metadata": {
      "needs_background": "light"
     },
     "output_type": "display_data"
    }
   ],
   "source": [
    "fig, ax = plt.subplots(figsize = (10,10))\n",
    "gdf1.plot(ax = ax, column = 'TotalCountDeaths')\n",
    "ax.set_axis_off()\n",
    "plt.show()"
   ]
  }
 ],
 "metadata": {
  "kernelspec": {
   "display_name": "Python 3",
   "language": "python",
   "name": "python3"
  },
  "language_info": {
   "codemirror_mode": {
    "name": "ipython",
    "version": 3
   },
   "file_extension": ".py",
   "mimetype": "text/x-python",
   "name": "python",
   "nbconvert_exporter": "python",
   "pygments_lexer": "ipython3",
   "version": "3.7.4"
  }
 },
 "nbformat": 4,
 "nbformat_minor": 2
}
